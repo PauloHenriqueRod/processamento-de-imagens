{
 "cells": [
  {
   "cell_type": "code",
   "execution_count": 28,
   "metadata": {},
   "outputs": [],
   "source": [
    "import cv2\n",
    "from PIL import Image\n",
    "import numpy as np"
   ]
  },
  {
   "cell_type": "code",
   "execution_count": 55,
   "metadata": {},
   "outputs": [],
   "source": [
    "import cv2\n",
    "import numpy as np\n",
    "\n",
    "def apply_gaussian_filter(image, kernel_size=(5, 5), sigma_x=0):\n",
    "    return cv2.GaussianBlur(image, kernel_size, sigma_x)\n",
    "\n",
    "# Exemplo de uso:\n",
    "img = cv2.imread('imagem.jpg')\n",
    "\n",
    "# Aplica o filtro gaussiano com o tamanho do kernel (5, 5) e sigma_x 0\n",
    "result = apply_gaussian_filter(img, kernel_size=(7, 7), sigma_x=0)\n",
    "result = apply_gaussian_filter(result, kernel_size=(7, 7), sigma_x=0)\n",
    "result = apply_gaussian_filter(result, kernel_size=(7, 7), sigma_x=0)\n",
    "\n",
    "\n",
    "\n",
    "# Exibe a imagem original e a imagem após a aplicação do filtro\n",
    "cv2.imshow('Imagem Original', img)\n",
    "cv2.imshow('Imagem com Filtro Gaussiano', result)\n",
    "cv2.waitKey(0)\n",
    "cv2.destroyAllWindows()"
   ]
  },
  {
   "cell_type": "code",
   "execution_count": 56,
   "metadata": {},
   "outputs": [],
   "source": [
    "def apply_canny_edge_detection_colored(image, low_threshold, high_threshold):\n",
    "    # Aplica o Filtro de Canny\n",
    "    edges = cv2.Canny(image, low_threshold, high_threshold)\n",
    "\n",
    "    # Converte a imagem de bordas para 3 canais para combinar com a imagem colorida\n",
    "    edges_colored = cv2.cvtColor(edges, cv2.COLOR_GRAY2BGR)\n",
    "\n",
    "    # Combina a imagem original com a imagem de bordas\n",
    "    result = cv2.addWeighted(image, 1, edges_colored, 0.5, 0)\n",
    "\n",
    "    return result\n",
    "\n",
    "\n",
    "# Aplica o Filtro de Canny com limiares 50 e 150\n",
    "result_canny = apply_canny_edge_detection_colored(result, low_threshold=50, high_threshold=150)\n",
    "\n",
    "# Exibe a imagem original e a imagem com bordas sobrepostas\n",
    "cv2.imshow('Detecção de Bordas (Canny)', result_canny)\n",
    "cv2.waitKey(0)\n",
    "cv2.destroyAllWindows()"
   ]
  },
  {
   "cell_type": "code",
   "execution_count": null,
   "metadata": {},
   "outputs": [],
   "source": []
  }
 ],
 "metadata": {
  "kernelspec": {
   "display_name": "Python 3",
   "language": "python",
   "name": "python3"
  },
  "language_info": {
   "codemirror_mode": {
    "name": "ipython",
    "version": 3
   },
   "file_extension": ".py",
   "mimetype": "text/x-python",
   "name": "python",
   "nbconvert_exporter": "python",
   "pygments_lexer": "ipython3",
   "version": "3.11.5"
  }
 },
 "nbformat": 4,
 "nbformat_minor": 2
}
